{
 "cells": [
  {
   "cell_type": "code",
   "execution_count": null,
   "metadata": {},
   "outputs": [],
   "source": [
    "import pandas as pd\n",
    "import numpy as np"
   ]
  },
  {
   "cell_type": "markdown",
   "metadata": {},
   "source": [
    "Creating DataFrame"
   ]
  },
  {
   "cell_type": "code",
   "execution_count": null,
   "metadata": {},
   "outputs": [],
   "source": [
    "#using list\n",
    "student_data = [[100,80,10],[90,70,7],[120,100,14,],[80,50,5]]\n",
    "pd.DataFrame(student_data,columns=['iq','marks','package'])"
   ]
  },
  {
   "cell_type": "code",
   "execution_count": null,
   "metadata": {},
   "outputs": [],
   "source": [
    "#using dict \n",
    "student_dict = {'iq':[60,90,80],\n",
    "                'marks':[80,70,100],\n",
    "                'package':[10,7,14]\n",
    "                }\n",
    "students=pd.DataFrame(student_dict)\n",
    "students"
   ]
  },
  {
   "cell_type": "code",
   "execution_count": null,
   "metadata": {},
   "outputs": [],
   "source": [
    "#using read_csv\n",
    "movies = pd.read_csv('/media/praveen/Office5/project/pandas/movies.csv')\n",
    "movies"
   ]
  },
  {
   "cell_type": "code",
   "execution_count": null,
   "metadata": {},
   "outputs": [],
   "source": [
    "ipl_matches = pd.read_csv('/media/praveen/Office5/project/pandas/ipl-matches.csv')\n",
    "ipl_matches"
   ]
  },
  {
   "cell_type": "code",
   "execution_count": null,
   "metadata": {},
   "outputs": [],
   "source": [
    "#shape --> how many row and column in dataframe\n",
    "movies.shape\n",
    "ipl_matches.shape"
   ]
  },
  {
   "cell_type": "code",
   "execution_count": null,
   "metadata": {},
   "outputs": [],
   "source": [
    "#dtypes\n",
    "movies.dtypes\n",
    "ipl_matches.dtypes\n"
   ]
  },
  {
   "cell_type": "code",
   "execution_count": null,
   "metadata": {},
   "outputs": [],
   "source": [
    "#index \n",
    "movies.index\n",
    "ipl_matches.index"
   ]
  },
  {
   "cell_type": "code",
   "execution_count": null,
   "metadata": {},
   "outputs": [],
   "source": [
    "#columns\n",
    "movies.columns\n",
    "ipl_matches.columns"
   ]
  },
  {
   "cell_type": "code",
   "execution_count": null,
   "metadata": {},
   "outputs": [],
   "source": [
    "#values \n",
    "students.values"
   ]
  },
  {
   "cell_type": "code",
   "execution_count": null,
   "metadata": {},
   "outputs": [],
   "source": [
    "#head and tail\n",
    "movies.head()\n",
    "movies.tail(2)"
   ]
  },
  {
   "cell_type": "code",
   "execution_count": null,
   "metadata": {},
   "outputs": [],
   "source": [
    "#sample \n",
    "movies.sample(2)"
   ]
  },
  {
   "cell_type": "code",
   "execution_count": null,
   "metadata": {},
   "outputs": [],
   "source": [
    "#info\n",
    "ipl_matches.info()"
   ]
  },
  {
   "cell_type": "code",
   "execution_count": null,
   "metadata": {},
   "outputs": [],
   "source": [
    "#describe --> runs only on numeric columns\n",
    "movies.describe()"
   ]
  },
  {
   "cell_type": "code",
   "execution_count": null,
   "metadata": {},
   "outputs": [],
   "source": [
    "#isnull --> fetch where is value is null\n",
    "ipl_matches.isnull().sum()"
   ]
  },
  {
   "cell_type": "code",
   "execution_count": null,
   "metadata": {},
   "outputs": [],
   "source": [
    "#duplicated\n",
    "movies.duplicated().sum()"
   ]
  },
  {
   "cell_type": "code",
   "execution_count": null,
   "metadata": {},
   "outputs": [],
   "source": [
    "#rename \n",
    "students.rename(columns={'marks':'percentage','package':'LPA'},inplace=True)   #inplace make the permanent chances\n",
    "students"
   ]
  },
  {
   "cell_type": "markdown",
   "metadata": {},
   "source": [
    "Maths Methods"
   ]
  },
  {
   "cell_type": "code",
   "execution_count": null,
   "metadata": {},
   "outputs": [],
   "source": [
    "#sum  --> axis = 0-->row and axis =1 --> columns\n",
    "students.sum(axis =0)"
   ]
  },
  {
   "cell_type": "code",
   "execution_count": null,
   "metadata": {},
   "outputs": [],
   "source": [
    "#mean\n",
    "students.mean(axis = 0)"
   ]
  },
  {
   "cell_type": "code",
   "execution_count": null,
   "metadata": {},
   "outputs": [],
   "source": [
    "#mean/median/mod/std/var/min/max  --> axis = 0 or 1\n",
    "print(students.mean())\n",
    "print(students.median())\n",
    "print(students.mode())\n",
    "print(students.std())\n",
    "print(students.var())\n",
    "print(students.min())\n",
    "print(students.max())"
   ]
  },
  {
   "cell_type": "markdown",
   "metadata": {},
   "source": [
    "Selecting Columns from a Dataframe "
   ]
  },
  {
   "cell_type": "code",
   "execution_count": null,
   "metadata": {},
   "outputs": [],
   "source": [
    "#columns\n",
    "movies['title_x']\n",
    "ipl_matches['Venue']"
   ]
  },
  {
   "cell_type": "code",
   "execution_count": null,
   "metadata": {},
   "outputs": [],
   "source": [
    "#multiple columns \n",
    "movies[['title_x','actors','imdb_rating']]"
   ]
  },
  {
   "cell_type": "markdown",
   "metadata": {},
   "source": [
    "Selecting rows from the Dataframe "
   ]
  },
  {
   "cell_type": "code",
   "execution_count": null,
   "metadata": {},
   "outputs": [],
   "source": [
    "student_dict = {\n",
    "                'name':['pam','prachi','ritika','ayush'],\n",
    "                'iq':[60,90,80,70],\n",
    "                'marks':[80,70,100,65],\n",
    "                'package':[10,7,14,9]\n",
    "                }\n",
    "students=pd.DataFrame(student_dict)\n",
    "students.set_index('name',inplace=True)\n",
    "students"
   ]
  },
  {
   "cell_type": "markdown",
   "metadata": {},
   "source": [
    "Selecting rows from the Dataframe \n",
    "--> iloc - search usiing index places \n",
    "--> loc  - search using index labels "
   ]
  },
  {
   "cell_type": "code",
   "execution_count": null,
   "metadata": {},
   "outputs": [],
   "source": [
    "#iloc\n",
    "#single row \n",
    "movies.iloc[1]"
   ]
  },
  {
   "cell_type": "code",
   "execution_count": null,
   "metadata": {},
   "outputs": [],
   "source": [
    "#multiple row\n",
    "movies.iloc[0:8:2]"
   ]
  },
  {
   "cell_type": "code",
   "execution_count": null,
   "metadata": {},
   "outputs": [],
   "source": [
    "#fancy indexing\n",
    "movies.iloc[[0,4,7]]"
   ]
  },
  {
   "cell_type": "code",
   "execution_count": null,
   "metadata": {},
   "outputs": [],
   "source": [
    "#loc\n",
    "students.loc['pam':'ayush':2]"
   ]
  },
  {
   "cell_type": "code",
   "execution_count": null,
   "metadata": {},
   "outputs": [],
   "source": [
    "#selecting multiple rows and column using iloc\n",
    "movies.iloc[0:3,0:5]"
   ]
  },
  {
   "cell_type": "code",
   "execution_count": null,
   "metadata": {},
   "outputs": [],
   "source": [
    "#selecting multiple rows and column usiing loc \n",
    "movies.loc[0:2,'title_x':'title_y':2]"
   ]
  },
  {
   "cell_type": "markdown",
   "metadata": {},
   "source": [
    "Filtering Dataframes "
   ]
  },
  {
   "cell_type": "code",
   "execution_count": null,
   "metadata": {},
   "outputs": [],
   "source": [
    "ipl_matches.head(2)"
   ]
  },
  {
   "cell_type": "code",
   "execution_count": null,
   "metadata": {},
   "outputs": [],
   "source": [
    "#find all the final winners \n",
    "matches = ipl_matches['MatchNumber'] == 'Final'\n",
    "new_df = ipl_matches[matches]\n",
    "new_df[['Season','WinningTeam']] \n",
    "\n",
    "####################\n",
    "ipl_matches[ipl_matches['MatchNumber'] == 'Final'][['Season','WinningTeam']]"
   ]
  },
  {
   "cell_type": "code",
   "execution_count": null,
   "metadata": {},
   "outputs": [],
   "source": [
    "#how many super over finishes have occured \n",
    "ipl_matches[ipl_matches['SuperOver'] == 'Y'].shape[0]\n"
   ]
  },
  {
   "cell_type": "code",
   "execution_count": null,
   "metadata": {},
   "outputs": [],
   "source": [
    "#how many matches has csk won in kolkata\n",
    "ipl_matches[(ipl_matches['City'] == 'Kolkata') & (ipl_matches['WinningTeam'] == 'Chennai Super Kings')].shape[0]"
   ]
  },
  {
   "cell_type": "code",
   "execution_count": null,
   "metadata": {},
   "outputs": [],
   "source": [
    "#toss winner is match winner in percentage\n",
    "ipl_matches[ipl_matches['TossWinner'] == ipl_matches['WinningTeam']].shape[0]/ipl_matches.shape[0] * 100"
   ]
  },
  {
   "cell_type": "code",
   "execution_count": null,
   "metadata": {},
   "outputs": [],
   "source": [
    "#movies with rating higher than 8 and votes > 100000\n",
    "movies[(movies['imdb_rating'] > 8) & (movies['imdb_votes'] >10000)].shape[0]"
   ]
  },
  {
   "cell_type": "code",
   "execution_count": null,
   "metadata": {},
   "outputs": [],
   "source": [
    "#Action movies with rating higher than 7.5\n",
    "mask1 = movies['genres'].str.split('|').apply(lambda x:'Action' in x)\n",
    "mask2 = movies ['imdb_rating'] > 7.5\n",
    "\n",
    "movies[mask1 & mask2].shape[0]"
   ]
  },
  {
   "cell_type": "code",
   "execution_count": null,
   "metadata": {},
   "outputs": [],
   "source": [
    "#write a function that return track record against each other \n",
    "\n",
    "def track_record(team1,team2):\n",
    "    matches_between = ipl_matches[((ipl_matches['Team1'] == team1) & (ipl_matches['Team2']==team2)) | \n",
    "                     ((ipl_matches['Team1'] == team2) & (ipl_matches['Team2'] == team1))]\n",
    "    \n",
    "    team1_wins = matches_between[matches_between['WinningTeam'] == team1].shape[0]\n",
    "    team2_wins = matches_between[matches_between['WinningTeam'] == team2].shape[0]\n",
    "    \n",
    "    return   f\"\"\"Match wins by {team1}: {team1_wins}\n",
    "                 Match wins by {team2}: {team2_wins}\"\"\"\n",
    "\n",
    "track_record('Mumbai Indians','Chennai Super Kings')"
   ]
  },
  {
   "cell_type": "markdown",
   "metadata": {},
   "source": [
    "Adding New Columns "
   ]
  },
  {
   "cell_type": "code",
   "execution_count": null,
   "metadata": {},
   "outputs": [],
   "source": [
    "#Adding New Columns \n",
    "movies['country']='India'\n",
    "movies"
   ]
  },
  {
   "cell_type": "code",
   "execution_count": null,
   "metadata": {},
   "outputs": [],
   "source": [
    "#from existing ones \n",
    "movies['lead actor'] = movies['actors'].str.split('|').apply(lambda x:x[0])\n"
   ]
  },
  {
   "cell_type": "markdown",
   "metadata": {},
   "source": [
    "Important DataFrame Functions "
   ]
  },
  {
   "cell_type": "code",
   "execution_count": null,
   "metadata": {},
   "outputs": [],
   "source": [
    "#astype\n",
    "ipl_matches['ID'].astype('int32')"
   ]
  },
  {
   "cell_type": "code",
   "execution_count": null,
   "metadata": {},
   "outputs": [],
   "source": [
    "ipl_matches['Season']= ipl_matches['Season'].astype('category')\n",
    "ipl_matches.info()"
   ]
  },
  {
   "cell_type": "code",
   "execution_count": null,
   "metadata": {},
   "outputs": [],
   "source": []
  }
 ],
 "metadata": {
  "kernelspec": {
   "display_name": "env",
   "language": "python",
   "name": "python3"
  },
  "language_info": {
   "codemirror_mode": {
    "name": "ipython",
    "version": 3
   },
   "file_extension": ".py",
   "mimetype": "text/x-python",
   "name": "python",
   "nbconvert_exporter": "python",
   "pygments_lexer": "ipython3",
   "version": "3.12.3"
  }
 },
 "nbformat": 4,
 "nbformat_minor": 2
}
